{
  "nbformat": 4,
  "nbformat_minor": 0,
  "metadata": {
    "colab": {
      "provenance": [],
      "toc_visible": true,
      "authorship_tag": "ABX9TyPETcFFFqmp9LEhIVhfXere",
      "include_colab_link": true
    },
    "kernelspec": {
      "name": "python3",
      "display_name": "Python 3"
    },
    "language_info": {
      "name": "python"
    }
  },
  "cells": [
    {
      "cell_type": "markdown",
      "metadata": {
        "id": "view-in-github",
        "colab_type": "text"
      },
      "source": [
        "<a href=\"https://colab.research.google.com/github/explodeTheComputer/ptongmoon/blob/main/%EC%A0%95%EC%9D%BC%ED%98%81%EC%BB%B4%EA%B3%B5%EA%B3%BC%EC%A0%9C3.ipynb\" target=\"_parent\"><img src=\"https://colab.research.google.com/assets/colab-badge.svg\" alt=\"Open In Colab\"/></a>"
      ]
    },
    {
      "cell_type": "code",
      "source": [
        "numList = [4,7,13]\n",
        "numList.extend([10,2])\n",
        "print(numList)"
      ],
      "metadata": {
        "colab": {
          "base_uri": "https://localhost:8080/"
        },
        "id": "KOA5DJ1Zd7IJ",
        "outputId": "af73e6b8-b1f6-4311-dfee-69f4e45a65d2"
      },
      "execution_count": null,
      "outputs": [
        {
          "output_type": "stream",
          "name": "stdout",
          "text": [
            "[4, 7, 13, 10, 2]\n"
          ]
        }
      ]
    },
    {
      "cell_type": "code",
      "execution_count": null,
      "metadata": {
        "colab": {
          "base_uri": "https://localhost:8080/"
        },
        "id": "HEklXRdPc6O4",
        "outputId": "fc1af334-0c92-42ab-816d-93bc61963a4c"
      },
      "outputs": [
        {
          "output_type": "stream",
          "name": "stdout",
          "text": [
            "6\n"
          ]
        }
      ],
      "source": [
        "numList = [4,7,13]\n",
        "numList.append(10)\n",
        "numList.extend([1,3])\n",
        "print(len(numList))"
      ]
    },
    {
      "cell_type": "markdown",
      "source": [
        "## 문자열형\n",
        "* 값 변경 불가\n",
        "* 순서가 중요한 자료형\n",
        "* 인덱싱, 슬라이싱\n",
        "* 연결연산자(+)\n",
        "* 반복연산자(*)"
      ],
      "metadata": {
        "id": "2QvvvAmzecAh"
      }
    },
    {
      "cell_type": "code",
      "source": [
        "subj = 'python'\n",
        "print(subj[0])"
      ],
      "metadata": {
        "colab": {
          "base_uri": "https://localhost:8080/"
        },
        "id": "RvONu0b5e1Xr",
        "outputId": "9d89c1c3-c6cf-499a-d003-1f4fcf8d9dbd"
      },
      "execution_count": null,
      "outputs": [
        {
          "output_type": "stream",
          "name": "stdout",
          "text": [
            "p\n"
          ]
        }
      ]
    },
    {
      "cell_type": "code",
      "source": [
        "subj = 'python'\n",
        "subj[0]='P'\n",
        "print(subj)"
      ],
      "metadata": {
        "colab": {
          "base_uri": "https://localhost:8080/",
          "height": 173
        },
        "id": "4G8dFqVEeal6",
        "outputId": "41e9a56c-54bb-46cc-b9f8-bbe529232a7d"
      },
      "execution_count": null,
      "outputs": [
        {
          "output_type": "error",
          "ename": "TypeError",
          "evalue": "'str' object does not support item assignment",
          "traceback": [
            "\u001b[0;31m---------------------------------------------------------------------------\u001b[0m",
            "\u001b[0;31mTypeError\u001b[0m                                 Traceback (most recent call last)",
            "\u001b[0;32m<ipython-input-7-d81b7ae5bcc9>\u001b[0m in \u001b[0;36m<cell line: 2>\u001b[0;34m()\u001b[0m\n\u001b[1;32m      1\u001b[0m \u001b[0msubj\u001b[0m \u001b[0;34m=\u001b[0m \u001b[0;34m'python'\u001b[0m\u001b[0;34m\u001b[0m\u001b[0;34m\u001b[0m\u001b[0m\n\u001b[0;32m----> 2\u001b[0;31m \u001b[0msubj\u001b[0m\u001b[0;34m[\u001b[0m\u001b[0;36m0\u001b[0m\u001b[0;34m]\u001b[0m\u001b[0;34m=\u001b[0m\u001b[0;34m'P'\u001b[0m\u001b[0;34m\u001b[0m\u001b[0;34m\u001b[0m\u001b[0m\n\u001b[0m\u001b[1;32m      3\u001b[0m \u001b[0mprint\u001b[0m\u001b[0;34m(\u001b[0m\u001b[0msubj\u001b[0m\u001b[0;34m)\u001b[0m\u001b[0;34m\u001b[0m\u001b[0;34m\u001b[0m\u001b[0m\n",
            "\u001b[0;31mTypeError\u001b[0m: 'str' object does not support item assignment"
          ]
        }
      ]
    },
    {
      "cell_type": "markdown",
      "source": [
        "## 입출력함수\n",
        "* 입력함수\n",
        "    - input() 문자열형\n",
        "    - int(input()) 정수형\n",
        "    - float(input()) 실수형\n",
        "* 출력함수\n",
        "    - print()\n",
        "    - %형식지정자:%d(정수), %f(실수),%s(문자열)\n",
        "    - .format()형식\n",
        "    - f-string"
      ],
      "metadata": {
        "id": "0DIupJOpfdYV"
      }
    },
    {
      "cell_type": "code",
      "source": [
        "s1 = '애플'\n",
        "s2 = '망고'\n",
        "result = s1 + s2 #연결연산자 +\n",
        "print('%s + %s는 %s' % (s1, s2, result))"
      ],
      "metadata": {
        "colab": {
          "base_uri": "https://localhost:8080/"
        },
        "id": "MuGiL_tqfR33",
        "outputId": "a639244b-1cf4-43de-b3b3-9d68738a2951"
      },
      "execution_count": null,
      "outputs": [
        {
          "output_type": "stream",
          "name": "stdout",
          "text": [
            "애플 + 망고는 애플망고\n"
          ]
        }
      ]
    },
    {
      "cell_type": "markdown",
      "source": [
        "## 반복문\n",
        "* 주어진 횟수만큼 반복-for문\n",
        "* 주어진 조건이 참인 동안 반복 - while문"
      ],
      "metadata": {
        "id": "tpRMD_DDgdNH"
      }
    },
    {
      "cell_type": "code",
      "source": [
        "#for문 형식\n",
        "for 변수 in 범위: 범위-range(),문자열,리스트,튜플\n",
        "    실행문장1\n",
        "    실행문장2"
      ],
      "metadata": {
        "id": "bOPUkUGggvth"
      },
      "execution_count": null,
      "outputs": []
    },
    {
      "cell_type": "code",
      "source": [
        "for i in range(1,11,1): #range(시작,끝+1,증감)\n",
        "    print(i)"
      ],
      "metadata": {
        "colab": {
          "base_uri": "https://localhost:8080/"
        },
        "id": "ETwzzh5DhAUO",
        "outputId": "a5999d84-fd8a-45a6-fc47-6bb2b9240bac"
      },
      "execution_count": null,
      "outputs": [
        {
          "output_type": "stream",
          "name": "stdout",
          "text": [
            "1\n",
            "2\n",
            "3\n",
            "4\n",
            "5\n",
            "6\n",
            "7\n",
            "8\n",
            "9\n",
            "10\n"
          ]
        }
      ]
    },
    {
      "cell_type": "code",
      "source": [
        "for i in range(1,11): #range(시작,끝+1,증감)\n",
        "    print(i)"
      ],
      "metadata": {
        "colab": {
          "base_uri": "https://localhost:8080/"
        },
        "id": "U5oyluq6hY8B",
        "outputId": "71877c44-2d50-46c8-8d13-b9ed27bb2409"
      },
      "execution_count": null,
      "outputs": [
        {
          "output_type": "stream",
          "name": "stdout",
          "text": [
            "1\n",
            "2\n",
            "3\n",
            "4\n",
            "5\n",
            "6\n",
            "7\n",
            "8\n",
            "9\n",
            "10\n"
          ]
        }
      ]
    },
    {
      "cell_type": "code",
      "source": [
        "for i in range(1,11,2): #range(시작,끝+1,증감)\n",
        "    print(i)"
      ],
      "metadata": {
        "colab": {
          "base_uri": "https://localhost:8080/"
        },
        "id": "Xyxw0LcAhfBU",
        "outputId": "8bc1e0b7-0176-476a-ed50-0194b458d36f"
      },
      "execution_count": null,
      "outputs": [
        {
          "output_type": "stream",
          "name": "stdout",
          "text": [
            "1\n",
            "3\n",
            "5\n",
            "7\n",
            "9\n"
          ]
        }
      ]
    },
    {
      "cell_type": "code",
      "source": [
        "for i in range(5,0,-1): #range(시작,끝+1,증감)\n",
        "    print(i)"
      ],
      "metadata": {
        "colab": {
          "base_uri": "https://localhost:8080/"
        },
        "id": "bSS4RrXJhqXG",
        "outputId": "72f0729d-2832-4db3-bc74-ebfc183a693e"
      },
      "execution_count": null,
      "outputs": [
        {
          "output_type": "stream",
          "name": "stdout",
          "text": [
            "5\n",
            "4\n",
            "3\n",
            "2\n",
            "1\n"
          ]
        }
      ]
    },
    {
      "cell_type": "markdown",
      "source": [
        "## 알고리즘 구조\n",
        "* 구조 :\n",
        "    - 순차구조,선택구조,반복구조\n",
        "* 요건:\n",
        "    - 입력:\n",
        "    - 출력:\n",
        "    - 유한성\n",
        "    - 명확성\n",
        "    - 수행성"
      ],
      "metadata": {
        "id": "U9BPgf_fiTA5"
      }
    },
    {
      "cell_type": "code",
      "source": [
        "#while문 형식\n",
        "변수 초기값\n",
        "while 조건식:\n",
        "    실행문장\n",
        "    변수 증감값 - 조건식을 벗어나기위한 코드"
      ],
      "metadata": {
        "id": "fLymcsgbh2YH"
      },
      "execution_count": null,
      "outputs": []
    },
    {
      "cell_type": "code",
      "source": [
        "i=5\n",
        "while i>0: #1<=5(True),1<=5(True),\n",
        "    print(i) #1        , 1        ,\n",
        "    i-=1"
      ],
      "metadata": {
        "colab": {
          "base_uri": "https://localhost:8080/"
        },
        "id": "r-gr5MKbhwaE",
        "outputId": "dd60a302-4442-4671-a588-d3bde63be2f1"
      },
      "execution_count": null,
      "outputs": [
        {
          "output_type": "stream",
          "name": "stdout",
          "text": [
            "5\n",
            "4\n",
            "3\n",
            "2\n",
            "1\n"
          ]
        }
      ]
    },
    {
      "cell_type": "markdown",
      "source": [
        "(문제1)위의 코드를 for문으로 사용하여 작성하시오."
      ],
      "metadata": {
        "id": "xKXv8QGpj5Y2"
      }
    },
    {
      "cell_type": "code",
      "source": [
        "for i in range(5,0,-1):\n",
        "    print(i)"
      ],
      "metadata": {
        "id": "1yjTekJkkEDI",
        "outputId": "d69f20b8-a268-4cfe-ab62-29a075d2f347",
        "colab": {
          "base_uri": "https://localhost:8080/"
        }
      },
      "execution_count": null,
      "outputs": [
        {
          "output_type": "stream",
          "name": "stdout",
          "text": [
            "5\n",
            "4\n",
            "3\n",
            "2\n",
            "1\n"
          ]
        }
      ]
    },
    {
      "cell_type": "code",
      "source": [],
      "metadata": {
        "id": "G_JjiyYCpKHW"
      },
      "execution_count": null,
      "outputs": []
    },
    {
      "cell_type": "code",
      "source": [
        "aList = [10,2,3,7,5]\n",
        "hap = aList[0]+aList[1]+aList[2]+aList[3]+aList[4]\n",
        "avg = hap/len(aList)\n",
        "print(f'총합은 {hap}점이고, 평균은 {avg:.2f} 점이다.')"
      ],
      "metadata": {
        "colab": {
          "base_uri": "https://localhost:8080/"
        },
        "id": "WscedqEzpLkk",
        "outputId": "1f5f9fef-302d-45e0-dd96-ba8ff1103638"
      },
      "execution_count": 15,
      "outputs": [
        {
          "output_type": "stream",
          "name": "stdout",
          "text": [
            "총합은 27점이고, 평균은 5.40 점이다.\n"
          ]
        }
      ]
    },
    {
      "cell_type": "markdown",
      "source": [
        "## 컬렉션자료형\n",
        "* 문자열, 리스트, 튜플, 딕셔너리, 세트\n",
        "* 딕셔너리의 key는 리스트에서의 index와 같은 역할"
      ],
      "metadata": {
        "id": "cKE-c6abp2eu"
      }
    },
    {
      "cell_type": "code",
      "source": [
        "a={1:'python', 2:'java'}\n",
        "print(a.get(2))"
      ],
      "metadata": {
        "colab": {
          "base_uri": "https://localhost:8080/"
        },
        "id": "V2tK9zNvprZR",
        "outputId": "9b7463a7-34fb-40aa-c811-e784d8de9122"
      },
      "execution_count": 16,
      "outputs": [
        {
          "output_type": "stream",
          "name": "stdout",
          "text": [
            "java\n"
          ]
        }
      ]
    },
    {
      "cell_type": "markdown",
      "source": [
        "* 집합\n",
        "    - 중복을 허용하지 않는다!!\n",
        "    - 순서가 중요하지 않다."
      ],
      "metadata": {
        "id": "RrpWU8_aqPx_"
      }
    },
    {
      "cell_type": "code",
      "source": [
        "a={23,10,5,10,5}\n",
        "b={10,5,25,3}\n",
        "print(a|b)"
      ],
      "metadata": {
        "colab": {
          "base_uri": "https://localhost:8080/"
        },
        "id": "rDzbjqjFqKuA",
        "outputId": "5b215396-6c0e-4629-d762-84037b253a8a"
      },
      "execution_count": 18,
      "outputs": [
        {
          "output_type": "stream",
          "name": "stdout",
          "text": [
            "{3, 5, 23, 25, 10}\n"
          ]
        }
      ]
    },
    {
      "cell_type": "markdown",
      "source": [
        "* 튜플\n",
        "    - 리스트와 유사\n",
        "    - 소괄호 생략가능\n",
        "    - 값 변경 불가!!\n",
        "    - 인덱싱, 슬라이싱"
      ],
      "metadata": {
        "id": "df1eTB68q3Ha"
      }
    },
    {
      "cell_type": "code",
      "source": [
        "a = 1,2,3,4,5\n",
        "print(a[::2])"
      ],
      "metadata": {
        "colab": {
          "base_uri": "https://localhost:8080/"
        },
        "id": "Wt7SzIs8qyow",
        "outputId": "74a22845-6ac7-4fab-81fd-2a61d9e2298d"
      },
      "execution_count": 19,
      "outputs": [
        {
          "output_type": "stream",
          "name": "stdout",
          "text": [
            "(1, 3, 5)\n"
          ]
        }
      ]
    },
    {
      "cell_type": "code",
      "source": [
        "a = 1,2,3,4,5\n",
        "print(a[1::2])"
      ],
      "metadata": {
        "colab": {
          "base_uri": "https://localhost:8080/"
        },
        "id": "00m_47JWrvp7",
        "outputId": "194799b1-385d-4919-fe7f-1175074875ee"
      },
      "execution_count": 21,
      "outputs": [
        {
          "output_type": "stream",
          "name": "stdout",
          "text": [
            "(2, 4)\n"
          ]
        }
      ]
    }
  ]
}