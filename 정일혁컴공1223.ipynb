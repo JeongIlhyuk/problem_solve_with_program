{
  "nbformat": 4,
  "nbformat_minor": 0,
  "metadata": {
    "colab": {
      "provenance": [],
      "authorship_tag": "ABX9TyPdC7VbQn+JWI3fT32drumX",
      "include_colab_link": true
    },
    "kernelspec": {
      "name": "python3",
      "display_name": "Python 3"
    },
    "language_info": {
      "name": "python"
    }
  },
  "cells": [
    {
      "cell_type": "markdown",
      "metadata": {
        "id": "view-in-github",
        "colab_type": "text"
      },
      "source": [
        "<a href=\"https://colab.research.google.com/github/explodeTheComputer/ptongmoon/blob/main/%EC%A0%95%EC%9D%BC%ED%98%81%EC%BB%B4%EA%B3%B51223.ipynb\" target=\"_parent\"><img src=\"https://colab.research.google.com/assets/colab-badge.svg\" alt=\"Open In Colab\"/></a>"
      ]
    },
    {
      "cell_type": "markdown",
      "source": [
        "# 파이썬 리뷰"
      ],
      "metadata": {
        "id": "x7MaHVVRJvwC"
      }
    },
    {
      "cell_type": "markdown",
      "source": [
        "## 파이썬 변수\n",
        "* 변수란? - 값을 저장하는 공간\n",
        "* 변수명 작성 규칙\n",
        "    - 알파벳(한글),숫자,_(언더바)만 사용가능\n",
        "    - 중간에 공백이 올 수 없다.\n",
        "    - 숫자가 맨 앞에 올 수 없다.\n",
        "    - 특수 기호 사용 불가!!\n",
        "    단, _(underbar)만 가능\n",
        "    - 예약어 사용 불가!\n",
        "    - 옳은 사용 예: myCar, my_car, _mycar, mycar_, king3\n",
        "    - 옳지 않은 사용 예:\n",
        "    my car, 3king, print, input, range, def, my@car,"
      ],
      "metadata": {
        "id": "s79FGaVbKLei"
      }
    },
    {
      "cell_type": "markdown",
      "source": [
        "## 파이썬 자료형\n",
        "* 기본 자료형\n",
        "    - 정수형(int), 실수형(float), 불형(bool)\n",
        "* 컬렉션 자료형\n",
        "    - 문자열 str: string\n",
        "    - 리스트 list\n",
        "    - 튜플 tuple\n",
        "    - 딕셔너리 dict\n",
        "    - 세트 set"
      ],
      "metadata": {
        "id": "I828p6fBJ7hL"
      }
    },
    {
      "cell_type": "code",
      "execution_count": 2,
      "metadata": {
        "colab": {
          "base_uri": "https://localhost:8080/"
        },
        "id": "4Mfi9VrfIZGk",
        "outputId": "f6071c49-7aef-4243-8762-ca57ca47284b"
      },
      "outputs": [
        {
          "output_type": "stream",
          "name": "stdout",
          "text": [
            "35000\n"
          ]
        }
      ],
      "source": [
        "ca_pay = 30000-15000\n",
        "na_pay = 20000\n",
        "bank = ca_pay + na_pay\n",
        "print(bank)"
      ]
    },
    {
      "cell_type": "code",
      "source": [
        "ame_value = 2000\n",
        "ame_cnt = 10\n",
        "latte_value, latte_cnt  = 3000, 20\n",
        "total = ame_value*ame_cnt + latte_value*latte_cnt\n",
        "print(total)"
      ],
      "metadata": {
        "id": "QYehYGMxM6q5"
      },
      "execution_count": null,
      "outputs": []
    }
  ]
}